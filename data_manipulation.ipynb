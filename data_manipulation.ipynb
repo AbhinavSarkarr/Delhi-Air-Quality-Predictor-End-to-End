{
  "cells": [
    {
      "cell_type": "code",
      "execution_count": 1,
      "metadata": {
        "id": "-Rbe1myANBR-"
      },
      "outputs": [],
      "source": [
        "import pandas as pd"
      ]
    },
    {
      "cell_type": "markdown",
      "metadata": {
        "id": "JZnozDf4pg0x"
      },
      "source": [
        "Let's load the raw data extracted from https://aqicn.org/. It consist of 40M rows of data!"
      ]
    },
    {
      "cell_type": "code",
      "execution_count": 2,
      "metadata": {
        "id": "nzil7xMMNF7N"
      },
      "outputs": [],
      "source": [
        "df = pd.read_csv(\"delhi_air_quality_feature_store_unprocessed.csv\")"
      ]
    },
    {
      "cell_type": "code",
      "execution_count": 3,
      "metadata": {
        "colab": {
          "base_uri": "https://localhost:8080/"
        },
        "id": "igX0jqXENRIc",
        "outputId": "88e984b6-b0af-457f-ddf4-d0e9db24be20"
      },
      "outputs": [
        {
          "data": {
            "text/plain": [
              "Index(['location_id', 'city', 'event_timestamp', 'temperature', 'humidity',\n",
              "       'pressure', 'wind_speed', 'wind_direction', 'pm25', 'pm10', 'no2',\n",
              "       'so2', 'o3', 'co', 'aqi'],\n",
              "      dtype='object')"
            ]
          },
          "execution_count": 3,
          "metadata": {},
          "output_type": "execute_result"
        }
      ],
      "source": [
        "df.columns"
      ]
    },
    {
      "cell_type": "markdown",
      "metadata": {
        "id": "0gLaTIPkrfjM"
      },
      "source": [
        "Here AQI will be our target feature for the first use case"
      ]
    },
    {
      "cell_type": "code",
      "execution_count": 4,
      "metadata": {
        "colab": {
          "base_uri": "https://localhost:8080/"
        },
        "id": "yT1Lx66gNVOC",
        "outputId": "e6752587-19f7-472a-96c4-4261a47af84e"
      },
      "outputs": [
        {
          "name": "stdout",
          "output_type": "stream",
          "text": [
            "<class 'pandas.core.frame.DataFrame'>\n",
            "RangeIndex: 4468848 entries, 0 to 4468847\n",
            "Data columns (total 15 columns):\n",
            " #   Column           Dtype  \n",
            "---  ------           -----  \n",
            " 0   location_id      object \n",
            " 1   city             object \n",
            " 2   event_timestamp  object \n",
            " 3   temperature      float64\n",
            " 4   humidity         float64\n",
            " 5   pressure         float64\n",
            " 6   wind_speed       float64\n",
            " 7   wind_direction   float64\n",
            " 8   pm25             float64\n",
            " 9   pm10             float64\n",
            " 10  no2              float64\n",
            " 11  so2              float64\n",
            " 12  o3               float64\n",
            " 13  co               float64\n",
            " 14  aqi              object \n",
            "dtypes: float64(11), object(4)\n",
            "memory usage: 511.4+ MB\n"
          ]
        }
      ],
      "source": [
        "df.info()  #this shows that are there are too many missing values"
      ]
    },
    {
      "cell_type": "code",
      "execution_count": 5,
      "metadata": {
        "colab": {
          "base_uri": "https://localhost:8080/",
          "height": 320
        },
        "id": "wxmX7ebzNWkQ",
        "outputId": "a9641fc4-f526-41e3-e3d9-5dbeaba6a246"
      },
      "outputs": [
        {
          "data": {
            "text/html": [
              "<div>\n",
              "<style scoped>\n",
              "    .dataframe tbody tr th:only-of-type {\n",
              "        vertical-align: middle;\n",
              "    }\n",
              "\n",
              "    .dataframe tbody tr th {\n",
              "        vertical-align: top;\n",
              "    }\n",
              "\n",
              "    .dataframe thead th {\n",
              "        text-align: right;\n",
              "    }\n",
              "</style>\n",
              "<table border=\"1\" class=\"dataframe\">\n",
              "  <thead>\n",
              "    <tr style=\"text-align: right;\">\n",
              "      <th></th>\n",
              "      <th>temperature</th>\n",
              "      <th>humidity</th>\n",
              "      <th>pressure</th>\n",
              "      <th>wind_speed</th>\n",
              "      <th>wind_direction</th>\n",
              "      <th>pm25</th>\n",
              "      <th>pm10</th>\n",
              "      <th>no2</th>\n",
              "      <th>so2</th>\n",
              "      <th>o3</th>\n",
              "      <th>co</th>\n",
              "    </tr>\n",
              "  </thead>\n",
              "  <tbody>\n",
              "    <tr>\n",
              "      <th>count</th>\n",
              "      <td>2.960250e+06</td>\n",
              "      <td>2.960250e+06</td>\n",
              "      <td>2.960250e+06</td>\n",
              "      <td>3.822306e+06</td>\n",
              "      <td>2.744736e+06</td>\n",
              "      <td>3.822306e+06</td>\n",
              "      <td>3.606792e+06</td>\n",
              "      <td>4.037820e+06</td>\n",
              "      <td>3.175764e+06</td>\n",
              "      <td>4.037820e+06</td>\n",
              "      <td>4.037820e+06</td>\n",
              "    </tr>\n",
              "    <tr>\n",
              "      <th>mean</th>\n",
              "      <td>3.000208e+01</td>\n",
              "      <td>5.905234e+01</td>\n",
              "      <td>9.851221e+02</td>\n",
              "      <td>9.269084e-01</td>\n",
              "      <td>1.664309e+02</td>\n",
              "      <td>2.280420e+02</td>\n",
              "      <td>2.389327e+02</td>\n",
              "      <td>2.472873e+01</td>\n",
              "      <td>6.933108e+00</td>\n",
              "      <td>2.360346e+01</td>\n",
              "      <td>1.462703e+01</td>\n",
              "    </tr>\n",
              "    <tr>\n",
              "      <th>std</th>\n",
              "      <td>3.599325e+00</td>\n",
              "      <td>1.707523e+01</td>\n",
              "      <td>7.481772e+00</td>\n",
              "      <td>8.515651e-01</td>\n",
              "      <td>1.062143e+02</td>\n",
              "      <td>6.139814e+01</td>\n",
              "      <td>1.359065e+02</td>\n",
              "      <td>1.606741e+01</td>\n",
              "      <td>3.582553e+00</td>\n",
              "      <td>2.710938e+01</td>\n",
              "      <td>1.540445e+01</td>\n",
              "    </tr>\n",
              "    <tr>\n",
              "      <th>min</th>\n",
              "      <td>2.050000e+01</td>\n",
              "      <td>3.830000e+01</td>\n",
              "      <td>9.647500e+02</td>\n",
              "      <td>1.000000e-01</td>\n",
              "      <td>2.000000e-01</td>\n",
              "      <td>1.590000e+02</td>\n",
              "      <td>1.090000e+02</td>\n",
              "      <td>3.700000e+00</td>\n",
              "      <td>2.000000e-01</td>\n",
              "      <td>5.000000e-01</td>\n",
              "      <td>1.000000e-01</td>\n",
              "    </tr>\n",
              "    <tr>\n",
              "      <th>25%</th>\n",
              "      <td>2.730000e+01</td>\n",
              "      <td>4.406667e+01</td>\n",
              "      <td>9.805000e+02</td>\n",
              "      <td>3.000000e-01</td>\n",
              "      <td>5.840000e+01</td>\n",
              "      <td>1.900000e+02</td>\n",
              "      <td>1.570000e+02</td>\n",
              "      <td>1.360000e+01</td>\n",
              "      <td>4.000000e+00</td>\n",
              "      <td>4.800000e+00</td>\n",
              "      <td>1.000000e-01</td>\n",
              "    </tr>\n",
              "    <tr>\n",
              "      <th>50%</th>\n",
              "      <td>3.030000e+01</td>\n",
              "      <td>5.200000e+01</td>\n",
              "      <td>9.850500e+02</td>\n",
              "      <td>5.333333e-01</td>\n",
              "      <td>1.749000e+02</td>\n",
              "      <td>2.120000e+02</td>\n",
              "      <td>1.860000e+02</td>\n",
              "      <td>2.080000e+01</td>\n",
              "      <td>6.900000e+00</td>\n",
              "      <td>1.260000e+01</td>\n",
              "      <td>1.120000e+01</td>\n",
              "    </tr>\n",
              "    <tr>\n",
              "      <th>75%</th>\n",
              "      <td>3.310000e+01</td>\n",
              "      <td>7.550000e+01</td>\n",
              "      <td>9.891250e+02</td>\n",
              "      <td>1.500000e+00</td>\n",
              "      <td>2.491000e+02</td>\n",
              "      <td>2.550000e+02</td>\n",
              "      <td>2.710000e+02</td>\n",
              "      <td>3.050000e+01</td>\n",
              "      <td>8.700000e+00</td>\n",
              "      <td>3.250000e+01</td>\n",
              "      <td>2.400000e+01</td>\n",
              "    </tr>\n",
              "    <tr>\n",
              "      <th>max</th>\n",
              "      <td>3.575000e+01</td>\n",
              "      <td>9.400000e+01</td>\n",
              "      <td>1.000000e+03</td>\n",
              "      <td>3.600000e+00</td>\n",
              "      <td>3.554000e+02</td>\n",
              "      <td>4.670000e+02</td>\n",
              "      <td>9.300000e+02</td>\n",
              "      <td>9.080000e+01</td>\n",
              "      <td>2.020000e+01</td>\n",
              "      <td>1.178000e+02</td>\n",
              "      <td>6.930000e+01</td>\n",
              "    </tr>\n",
              "  </tbody>\n",
              "</table>\n",
              "</div>"
            ],
            "text/plain": [
              "        temperature      humidity      pressure    wind_speed  wind_direction  \\\n",
              "count  2.960250e+06  2.960250e+06  2.960250e+06  3.822306e+06    2.744736e+06   \n",
              "mean   3.000208e+01  5.905234e+01  9.851221e+02  9.269084e-01    1.664309e+02   \n",
              "std    3.599325e+00  1.707523e+01  7.481772e+00  8.515651e-01    1.062143e+02   \n",
              "min    2.050000e+01  3.830000e+01  9.647500e+02  1.000000e-01    2.000000e-01   \n",
              "25%    2.730000e+01  4.406667e+01  9.805000e+02  3.000000e-01    5.840000e+01   \n",
              "50%    3.030000e+01  5.200000e+01  9.850500e+02  5.333333e-01    1.749000e+02   \n",
              "75%    3.310000e+01  7.550000e+01  9.891250e+02  1.500000e+00    2.491000e+02   \n",
              "max    3.575000e+01  9.400000e+01  1.000000e+03  3.600000e+00    3.554000e+02   \n",
              "\n",
              "               pm25          pm10           no2           so2            o3  \\\n",
              "count  3.822306e+06  3.606792e+06  4.037820e+06  3.175764e+06  4.037820e+06   \n",
              "mean   2.280420e+02  2.389327e+02  2.472873e+01  6.933108e+00  2.360346e+01   \n",
              "std    6.139814e+01  1.359065e+02  1.606741e+01  3.582553e+00  2.710938e+01   \n",
              "min    1.590000e+02  1.090000e+02  3.700000e+00  2.000000e-01  5.000000e-01   \n",
              "25%    1.900000e+02  1.570000e+02  1.360000e+01  4.000000e+00  4.800000e+00   \n",
              "50%    2.120000e+02  1.860000e+02  2.080000e+01  6.900000e+00  1.260000e+01   \n",
              "75%    2.550000e+02  2.710000e+02  3.050000e+01  8.700000e+00  3.250000e+01   \n",
              "max    4.670000e+02  9.300000e+02  9.080000e+01  2.020000e+01  1.178000e+02   \n",
              "\n",
              "                 co  \n",
              "count  4.037820e+06  \n",
              "mean   1.462703e+01  \n",
              "std    1.540445e+01  \n",
              "min    1.000000e-01  \n",
              "25%    1.000000e-01  \n",
              "50%    1.120000e+01  \n",
              "75%    2.400000e+01  \n",
              "max    6.930000e+01  "
            ]
          },
          "execution_count": 5,
          "metadata": {},
          "output_type": "execute_result"
        }
      ],
      "source": [
        "df.describe()"
      ]
    },
    {
      "cell_type": "code",
      "execution_count": 6,
      "metadata": {},
      "outputs": [
        {
          "data": {
            "text/html": [
              "<div>\n",
              "<style scoped>\n",
              "    .dataframe tbody tr th:only-of-type {\n",
              "        vertical-align: middle;\n",
              "    }\n",
              "\n",
              "    .dataframe tbody tr th {\n",
              "        vertical-align: top;\n",
              "    }\n",
              "\n",
              "    .dataframe thead th {\n",
              "        text-align: right;\n",
              "    }\n",
              "</style>\n",
              "<table border=\"1\" class=\"dataframe\">\n",
              "  <thead>\n",
              "    <tr style=\"text-align: right;\">\n",
              "      <th></th>\n",
              "      <th>location_id</th>\n",
              "      <th>city</th>\n",
              "      <th>event_timestamp</th>\n",
              "      <th>temperature</th>\n",
              "      <th>humidity</th>\n",
              "      <th>pressure</th>\n",
              "      <th>wind_speed</th>\n",
              "      <th>wind_direction</th>\n",
              "      <th>pm25</th>\n",
              "      <th>pm10</th>\n",
              "      <th>no2</th>\n",
              "      <th>so2</th>\n",
              "      <th>o3</th>\n",
              "      <th>co</th>\n",
              "      <th>aqi</th>\n",
              "    </tr>\n",
              "  </thead>\n",
              "  <tbody>\n",
              "    <tr>\n",
              "      <th>0</th>\n",
              "      <td>Delhi Institute of Tool Engineering, Wazirpur,...</td>\n",
              "      <td>Wazirpur</td>\n",
              "      <td>2000-03-15 13:44:28.651396</td>\n",
              "      <td>30.450</td>\n",
              "      <td>74.100</td>\n",
              "      <td>990.425</td>\n",
              "      <td>0.300</td>\n",
              "      <td>21.7</td>\n",
              "      <td>252.0</td>\n",
              "      <td>332.0</td>\n",
              "      <td>62.4</td>\n",
              "      <td>4.8</td>\n",
              "      <td>22.4</td>\n",
              "      <td>35.7</td>\n",
              "      <td>332</td>\n",
              "    </tr>\n",
              "    <tr>\n",
              "      <th>1</th>\n",
              "      <td>Satyawati College, Delhi, Delhi, India</td>\n",
              "      <td>Delhi</td>\n",
              "      <td>2000-03-15 13:44:28.651396</td>\n",
              "      <td>26.675</td>\n",
              "      <td>74.350</td>\n",
              "      <td>980.650</td>\n",
              "      <td>1.375</td>\n",
              "      <td>55.3</td>\n",
              "      <td>256.0</td>\n",
              "      <td>234.0</td>\n",
              "      <td>59.2</td>\n",
              "      <td>11.9</td>\n",
              "      <td>2.1</td>\n",
              "      <td>33.8</td>\n",
              "      <td>256</td>\n",
              "    </tr>\n",
              "    <tr>\n",
              "      <th>2</th>\n",
              "      <td>ITI Shahdra, Jhilmil Industrial Area, Delhi, D...</td>\n",
              "      <td>Jhilmil</td>\n",
              "      <td>2000-03-15 13:44:28.651396</td>\n",
              "      <td>28.775</td>\n",
              "      <td>62.925</td>\n",
              "      <td>984.350</td>\n",
              "      <td>0.300</td>\n",
              "      <td>221.3</td>\n",
              "      <td>265.0</td>\n",
              "      <td>210.0</td>\n",
              "      <td>48.3</td>\n",
              "      <td>5.1</td>\n",
              "      <td>8.2</td>\n",
              "      <td>35.1</td>\n",
              "      <td>265</td>\n",
              "    </tr>\n",
              "    <tr>\n",
              "      <th>3</th>\n",
              "      <td>Sonia Vihar Water Treatment Plant DJB, Delhi, ...</td>\n",
              "      <td>Sonia Vihar</td>\n",
              "      <td>2000-03-15 13:44:28.651396</td>\n",
              "      <td>26.575</td>\n",
              "      <td>78.525</td>\n",
              "      <td>991.300</td>\n",
              "      <td>0.300</td>\n",
              "      <td>313.6</td>\n",
              "      <td>251.0</td>\n",
              "      <td>177.0</td>\n",
              "      <td>16.5</td>\n",
              "      <td>1.8</td>\n",
              "      <td>1.7</td>\n",
              "      <td>24.9</td>\n",
              "      <td>251</td>\n",
              "    </tr>\n",
              "    <tr>\n",
              "      <th>4</th>\n",
              "      <td>PGDAV College, Sriniwaspuri, Delhi, Delhi, India</td>\n",
              "      <td>Sriniwaspuri</td>\n",
              "      <td>2000-03-15 13:44:28.651396</td>\n",
              "      <td>22.300</td>\n",
              "      <td>71.425</td>\n",
              "      <td>985.650</td>\n",
              "      <td>0.300</td>\n",
              "      <td>347.1</td>\n",
              "      <td>282.0</td>\n",
              "      <td>347.0</td>\n",
              "      <td>43.1</td>\n",
              "      <td>5.2</td>\n",
              "      <td>3.4</td>\n",
              "      <td>29.9</td>\n",
              "      <td>347</td>\n",
              "    </tr>\n",
              "  </tbody>\n",
              "</table>\n",
              "</div>"
            ],
            "text/plain": [
              "                                         location_id          city  \\\n",
              "0  Delhi Institute of Tool Engineering, Wazirpur,...      Wazirpur   \n",
              "1             Satyawati College, Delhi, Delhi, India         Delhi   \n",
              "2  ITI Shahdra, Jhilmil Industrial Area, Delhi, D...       Jhilmil   \n",
              "3  Sonia Vihar Water Treatment Plant DJB, Delhi, ...   Sonia Vihar   \n",
              "4   PGDAV College, Sriniwaspuri, Delhi, Delhi, India  Sriniwaspuri   \n",
              "\n",
              "              event_timestamp  temperature  humidity  pressure  wind_speed  \\\n",
              "0  2000-03-15 13:44:28.651396       30.450    74.100   990.425       0.300   \n",
              "1  2000-03-15 13:44:28.651396       26.675    74.350   980.650       1.375   \n",
              "2  2000-03-15 13:44:28.651396       28.775    62.925   984.350       0.300   \n",
              "3  2000-03-15 13:44:28.651396       26.575    78.525   991.300       0.300   \n",
              "4  2000-03-15 13:44:28.651396       22.300    71.425   985.650       0.300   \n",
              "\n",
              "   wind_direction   pm25   pm10   no2   so2    o3    co  aqi  \n",
              "0            21.7  252.0  332.0  62.4   4.8  22.4  35.7  332  \n",
              "1            55.3  256.0  234.0  59.2  11.9   2.1  33.8  256  \n",
              "2           221.3  265.0  210.0  48.3   5.1   8.2  35.1  265  \n",
              "3           313.6  251.0  177.0  16.5   1.8   1.7  24.9  251  \n",
              "4           347.1  282.0  347.0  43.1   5.2   3.4  29.9  347  "
            ]
          },
          "execution_count": 6,
          "metadata": {},
          "output_type": "execute_result"
        }
      ],
      "source": [
        "df.head()"
      ]
    },
    {
      "cell_type": "code",
      "execution_count": 7,
      "metadata": {
        "colab": {
          "base_uri": "https://localhost:8080/",
          "height": 554
        },
        "id": "uf3IIgz9NYJV",
        "outputId": "0d6b3051-36df-4072-a79f-3662f5f61cc3"
      },
      "outputs": [
        {
          "data": {
            "text/plain": [
              "location_id              0\n",
              "city                     0\n",
              "event_timestamp          0\n",
              "temperature        1508598\n",
              "humidity           1508598\n",
              "pressure           1508598\n",
              "wind_speed          646542\n",
              "wind_direction     1724112\n",
              "pm25                646542\n",
              "pm10                862056\n",
              "no2                 431028\n",
              "so2                1293084\n",
              "o3                  431028\n",
              "co                  431028\n",
              "aqi                      0\n",
              "dtype: int64"
            ]
          },
          "execution_count": 7,
          "metadata": {},
          "output_type": "execute_result"
        }
      ],
      "source": [
        "df.isnull().sum()  #to check the null values"
      ]
    },
    {
      "cell_type": "markdown",
      "metadata": {
        "id": "qD1lrXpuq2pA"
      },
      "source": [
        "Too many null values in multiple feature columns, will have to fix that."
      ]
    },
    {
      "cell_type": "code",
      "execution_count": 8,
      "metadata": {
        "colab": {
          "base_uri": "https://localhost:8080/",
          "height": 834
        },
        "id": "L0Xr1VpuNZir",
        "outputId": "826591ec-05db-4cdd-f5a6-f313dbdd3681"
      },
      "outputs": [
        {
          "data": {
            "text/html": [
              "<div>\n",
              "<style scoped>\n",
              "    .dataframe tbody tr th:only-of-type {\n",
              "        vertical-align: middle;\n",
              "    }\n",
              "\n",
              "    .dataframe tbody tr th {\n",
              "        vertical-align: top;\n",
              "    }\n",
              "\n",
              "    .dataframe thead th {\n",
              "        text-align: right;\n",
              "    }\n",
              "</style>\n",
              "<table border=\"1\" class=\"dataframe\">\n",
              "  <thead>\n",
              "    <tr style=\"text-align: right;\">\n",
              "      <th></th>\n",
              "      <th>location_id</th>\n",
              "      <th>city</th>\n",
              "      <th>event_timestamp</th>\n",
              "      <th>temperature</th>\n",
              "      <th>humidity</th>\n",
              "      <th>pressure</th>\n",
              "      <th>wind_speed</th>\n",
              "      <th>wind_direction</th>\n",
              "      <th>pm25</th>\n",
              "      <th>pm10</th>\n",
              "      <th>no2</th>\n",
              "      <th>so2</th>\n",
              "      <th>o3</th>\n",
              "      <th>co</th>\n",
              "      <th>aqi</th>\n",
              "    </tr>\n",
              "  </thead>\n",
              "  <tbody>\n",
              "    <tr>\n",
              "      <th>128438</th>\n",
              "      <td>ITI Shahdra, Jhilmil Industrial Area, Delhi, D...</td>\n",
              "      <td>Jhilmil</td>\n",
              "      <td>2000-11-25 09:44:28.651396</td>\n",
              "      <td>28.133333</td>\n",
              "      <td>66.833333</td>\n",
              "      <td>984.366667</td>\n",
              "      <td>0.3</td>\n",
              "      <td>221.3</td>\n",
              "      <td>265.0</td>\n",
              "      <td>210.0</td>\n",
              "      <td>48.3</td>\n",
              "      <td>5.1</td>\n",
              "      <td>8.2</td>\n",
              "      <td>35.1</td>\n",
              "      <td>265</td>\n",
              "    </tr>\n",
              "    <tr>\n",
              "      <th>1199099</th>\n",
              "      <td>ITI Jahangirpuri, Delhi, Delhi, India</td>\n",
              "      <td>Jahangirpuri</td>\n",
              "      <td>2006-10-10 23:44:28.651396</td>\n",
              "      <td>28.550000</td>\n",
              "      <td>59.800000</td>\n",
              "      <td>975.250000</td>\n",
              "      <td>0.3</td>\n",
              "      <td>166.0</td>\n",
              "      <td>442.0</td>\n",
              "      <td>703.0</td>\n",
              "      <td>30.2</td>\n",
              "      <td>7.5</td>\n",
              "      <td>8.7</td>\n",
              "      <td>24.4</td>\n",
              "      <td>703</td>\n",
              "    </tr>\n",
              "    <tr>\n",
              "      <th>3461524</th>\n",
              "      <td>ITO, Delhi, Delhi, India</td>\n",
              "      <td>ITO</td>\n",
              "      <td>2019-02-06 23:44:28.651396</td>\n",
              "      <td>NaN</td>\n",
              "      <td>NaN</td>\n",
              "      <td>NaN</td>\n",
              "      <td>NaN</td>\n",
              "      <td>NaN</td>\n",
              "      <td>NaN</td>\n",
              "      <td>NaN</td>\n",
              "      <td>NaN</td>\n",
              "      <td>NaN</td>\n",
              "      <td>NaN</td>\n",
              "      <td>NaN</td>\n",
              "      <td>-</td>\n",
              "    </tr>\n",
              "    <tr>\n",
              "      <th>2284870</th>\n",
              "      <td>Major Dhyan Chand National Stadium, Delhi, Del...</td>\n",
              "      <td>Major Dhyan Chand National Stadium</td>\n",
              "      <td>2012-09-03 07:44:28.651396</td>\n",
              "      <td>31.150000</td>\n",
              "      <td>42.250000</td>\n",
              "      <td>990.150000</td>\n",
              "      <td>0.8</td>\n",
              "      <td>168.0</td>\n",
              "      <td>235.0</td>\n",
              "      <td>189.0</td>\n",
              "      <td>14.9</td>\n",
              "      <td>7.8</td>\n",
              "      <td>48.8</td>\n",
              "      <td>9.3</td>\n",
              "      <td>235</td>\n",
              "    </tr>\n",
              "    <tr>\n",
              "      <th>3032064</th>\n",
              "      <td>Delhi Institute of Tool Engineering, Wazirpur,...</td>\n",
              "      <td>Wazirpur</td>\n",
              "      <td>2016-09-24 20:44:28.651396</td>\n",
              "      <td>33.700000</td>\n",
              "      <td>50.700000</td>\n",
              "      <td>965.050000</td>\n",
              "      <td>0.3</td>\n",
              "      <td>350.4</td>\n",
              "      <td>195.0</td>\n",
              "      <td>170.0</td>\n",
              "      <td>25.4</td>\n",
              "      <td>11.5</td>\n",
              "      <td>84.3</td>\n",
              "      <td>2.8</td>\n",
              "      <td>195</td>\n",
              "    </tr>\n",
              "    <tr>\n",
              "      <th>3856167</th>\n",
              "      <td>Delhi Institute of Tool Engineering, Wazirpur,...</td>\n",
              "      <td>Wazirpur</td>\n",
              "      <td>2021-05-09 04:44:28.651396</td>\n",
              "      <td>33.700000</td>\n",
              "      <td>50.700000</td>\n",
              "      <td>965.050000</td>\n",
              "      <td>0.3</td>\n",
              "      <td>350.4</td>\n",
              "      <td>195.0</td>\n",
              "      <td>170.0</td>\n",
              "      <td>25.4</td>\n",
              "      <td>11.5</td>\n",
              "      <td>84.3</td>\n",
              "      <td>2.8</td>\n",
              "      <td>195</td>\n",
              "    </tr>\n",
              "    <tr>\n",
              "      <th>750015</th>\n",
              "      <td>Delhi Institute of Tool Engineering, Wazirpur,...</td>\n",
              "      <td>Wazirpur</td>\n",
              "      <td>2004-04-11 16:44:28.651396</td>\n",
              "      <td>28.733333</td>\n",
              "      <td>87.066667</td>\n",
              "      <td>991.900000</td>\n",
              "      <td>0.3</td>\n",
              "      <td>23.9</td>\n",
              "      <td>370.0</td>\n",
              "      <td>766.0</td>\n",
              "      <td>46.9</td>\n",
              "      <td>8.3</td>\n",
              "      <td>28.0</td>\n",
              "      <td>48.6</td>\n",
              "      <td>766</td>\n",
              "    </tr>\n",
              "    <tr>\n",
              "      <th>3639567</th>\n",
              "      <td>Delhi Institute of Tool Engineering, Wazirpur,...</td>\n",
              "      <td>Wazirpur</td>\n",
              "      <td>2020-02-12 22:44:28.651396</td>\n",
              "      <td>33.700000</td>\n",
              "      <td>50.700000</td>\n",
              "      <td>965.050000</td>\n",
              "      <td>0.3</td>\n",
              "      <td>350.4</td>\n",
              "      <td>195.0</td>\n",
              "      <td>170.0</td>\n",
              "      <td>25.4</td>\n",
              "      <td>11.5</td>\n",
              "      <td>84.3</td>\n",
              "      <td>2.8</td>\n",
              "      <td>195</td>\n",
              "    </tr>\n",
              "    <tr>\n",
              "      <th>3701139</th>\n",
              "      <td>Burari Crossing, Delhi, Delhi, India</td>\n",
              "      <td>Burari</td>\n",
              "      <td>2020-06-20 04:44:28.651396</td>\n",
              "      <td>NaN</td>\n",
              "      <td>NaN</td>\n",
              "      <td>NaN</td>\n",
              "      <td>1.5</td>\n",
              "      <td>NaN</td>\n",
              "      <td>160.0</td>\n",
              "      <td>NaN</td>\n",
              "      <td>17.6</td>\n",
              "      <td>NaN</td>\n",
              "      <td>15.9</td>\n",
              "      <td>0.1</td>\n",
              "      <td>160</td>\n",
              "    </tr>\n",
              "    <tr>\n",
              "      <th>2445240</th>\n",
              "      <td>Delhi Institute of Tool Engineering, Wazirpur,...</td>\n",
              "      <td>Wazirpur</td>\n",
              "      <td>2013-07-18 12:44:28.651396</td>\n",
              "      <td>35.033333</td>\n",
              "      <td>50.633333</td>\n",
              "      <td>973.800000</td>\n",
              "      <td>0.3</td>\n",
              "      <td>14.7</td>\n",
              "      <td>258.0</td>\n",
              "      <td>325.0</td>\n",
              "      <td>35.2</td>\n",
              "      <td>9.0</td>\n",
              "      <td>60.1</td>\n",
              "      <td>4.9</td>\n",
              "      <td>325</td>\n",
              "    </tr>\n",
              "  </tbody>\n",
              "</table>\n",
              "</div>"
            ],
            "text/plain": [
              "                                               location_id  \\\n",
              "128438   ITI Shahdra, Jhilmil Industrial Area, Delhi, D...   \n",
              "1199099              ITI Jahangirpuri, Delhi, Delhi, India   \n",
              "3461524                           ITO, Delhi, Delhi, India   \n",
              "2284870  Major Dhyan Chand National Stadium, Delhi, Del...   \n",
              "3032064  Delhi Institute of Tool Engineering, Wazirpur,...   \n",
              "3856167  Delhi Institute of Tool Engineering, Wazirpur,...   \n",
              "750015   Delhi Institute of Tool Engineering, Wazirpur,...   \n",
              "3639567  Delhi Institute of Tool Engineering, Wazirpur,...   \n",
              "3701139               Burari Crossing, Delhi, Delhi, India   \n",
              "2445240  Delhi Institute of Tool Engineering, Wazirpur,...   \n",
              "\n",
              "                                       city             event_timestamp  \\\n",
              "128438                              Jhilmil  2000-11-25 09:44:28.651396   \n",
              "1199099                        Jahangirpuri  2006-10-10 23:44:28.651396   \n",
              "3461524                                 ITO  2019-02-06 23:44:28.651396   \n",
              "2284870  Major Dhyan Chand National Stadium  2012-09-03 07:44:28.651396   \n",
              "3032064                            Wazirpur  2016-09-24 20:44:28.651396   \n",
              "3856167                            Wazirpur  2021-05-09 04:44:28.651396   \n",
              "750015                             Wazirpur  2004-04-11 16:44:28.651396   \n",
              "3639567                            Wazirpur  2020-02-12 22:44:28.651396   \n",
              "3701139                              Burari  2020-06-20 04:44:28.651396   \n",
              "2445240                            Wazirpur  2013-07-18 12:44:28.651396   \n",
              "\n",
              "         temperature   humidity    pressure  wind_speed  wind_direction  \\\n",
              "128438     28.133333  66.833333  984.366667         0.3           221.3   \n",
              "1199099    28.550000  59.800000  975.250000         0.3           166.0   \n",
              "3461524          NaN        NaN         NaN         NaN             NaN   \n",
              "2284870    31.150000  42.250000  990.150000         0.8           168.0   \n",
              "3032064    33.700000  50.700000  965.050000         0.3           350.4   \n",
              "3856167    33.700000  50.700000  965.050000         0.3           350.4   \n",
              "750015     28.733333  87.066667  991.900000         0.3            23.9   \n",
              "3639567    33.700000  50.700000  965.050000         0.3           350.4   \n",
              "3701139          NaN        NaN         NaN         1.5             NaN   \n",
              "2445240    35.033333  50.633333  973.800000         0.3            14.7   \n",
              "\n",
              "          pm25   pm10   no2   so2    o3    co  aqi  \n",
              "128438   265.0  210.0  48.3   5.1   8.2  35.1  265  \n",
              "1199099  442.0  703.0  30.2   7.5   8.7  24.4  703  \n",
              "3461524    NaN    NaN   NaN   NaN   NaN   NaN    -  \n",
              "2284870  235.0  189.0  14.9   7.8  48.8   9.3  235  \n",
              "3032064  195.0  170.0  25.4  11.5  84.3   2.8  195  \n",
              "3856167  195.0  170.0  25.4  11.5  84.3   2.8  195  \n",
              "750015   370.0  766.0  46.9   8.3  28.0  48.6  766  \n",
              "3639567  195.0  170.0  25.4  11.5  84.3   2.8  195  \n",
              "3701139  160.0    NaN  17.6   NaN  15.9   0.1  160  \n",
              "2445240  258.0  325.0  35.2   9.0  60.1   4.9  325  "
            ]
          },
          "execution_count": 8,
          "metadata": {},
          "output_type": "execute_result"
        }
      ],
      "source": [
        "df.sample(10)  #here got to know that some of the rows have aqi value as \"-\""
      ]
    },
    {
      "cell_type": "code",
      "execution_count": 9,
      "metadata": {
        "colab": {
          "base_uri": "https://localhost:8080/"
        },
        "id": "zWEqZWqDNa2x",
        "outputId": "515d9bfc-f705-4808-c1d6-8bac506084db"
      },
      "outputs": [
        {
          "data": {
            "text/plain": [
              "(4468848, 15)"
            ]
          },
          "execution_count": 9,
          "metadata": {},
          "output_type": "execute_result"
        }
      ],
      "source": [
        "df.shape"
      ]
    },
    {
      "cell_type": "code",
      "execution_count": 10,
      "metadata": {
        "colab": {
          "base_uri": "https://localhost:8080/"
        },
        "id": "-gNmz1msNdYQ",
        "outputId": "4c78ff7c-991f-4f89-b0ee-ec674fe5e5cd"
      },
      "outputs": [
        {
          "data": {
            "text/plain": [
              "685379"
            ]
          },
          "execution_count": 10,
          "metadata": {},
          "output_type": "execute_result"
        }
      ],
      "source": [
        "(df['aqi'] == '-').sum()"
      ]
    },
    {
      "cell_type": "markdown",
      "metadata": {
        "id": "A6iQuo5Rr0b4"
      },
      "source": [
        "Around 15 percent of the total data have aqi as \"-\", so we need to take care of it.\n",
        "But before that let's find out the main sources which are leading to such data, for future preventions and smooth pipeline working."
      ]
    },
    {
      "cell_type": "markdown",
      "metadata": {
        "id": "pb5SZglZrpwN"
      },
      "source": [
        "Let's find the root cause along with dealing with this anomaly"
      ]
    },
    {
      "cell_type": "code",
      "execution_count": 11,
      "metadata": {
        "colab": {
          "base_uri": "https://localhost:8080/"
        },
        "id": "0s0WnUALsS8S",
        "outputId": "cd25e599-f6b1-4c25-fe02-0c91618e56e8"
      },
      "outputs": [
        {
          "name": "stdout",
          "output_type": "stream",
          "text": [
            "           city   count\n",
            "0   Anand Vihar    3381\n",
            "1   Civil Lines  215514\n",
            "2         IHBAS  215514\n",
            "3           ITO  215514\n",
            "4   Mandir Marg    3403\n",
            "5    Parparganj   11692\n",
            "6          Pusa    3492\n",
            "7   Sonia Vihar    8275\n",
            "8  Sriniwaspuri    8594\n"
          ]
        }
      ],
      "source": [
        "rows_with_no_aqi = df[df['aqi'] == '-']\n",
        "cities_with_no_aqi_count = rows_with_no_aqi.groupby('city').size().reset_index(name='count')\n",
        "print(cities_with_no_aqi_count)"
      ]
    },
    {
      "cell_type": "markdown",
      "metadata": {
        "id": "hG1w-jdTtCRb"
      },
      "source": [
        "So multiple cities are giving values as '-'. For now we will just drop all these rows and for future we will make a check that if aqi is '-'. Don't add it to the data."
      ]
    },
    {
      "cell_type": "code",
      "execution_count": 12,
      "metadata": {
        "id": "nrOUJqyENfiU"
      },
      "outputs": [],
      "source": [
        "df = df[df['aqi'] != '-']\n",
        "df['aqi'] = df['aqi'].astype(float)  # Convert column to numeric type after filtering"
      ]
    },
    {
      "cell_type": "code",
      "execution_count": 13,
      "metadata": {
        "colab": {
          "base_uri": "https://localhost:8080/"
        },
        "id": "bZNHcLNkNoXt",
        "outputId": "5b38b598-9582-49e9-9e24-f8bfe2a67fea"
      },
      "outputs": [
        {
          "data": {
            "text/plain": [
              "0"
            ]
          },
          "execution_count": 13,
          "metadata": {},
          "output_type": "execute_result"
        }
      ],
      "source": [
        "(df['aqi'] == '-').sum()"
      ]
    },
    {
      "cell_type": "code",
      "execution_count": 14,
      "metadata": {
        "colab": {
          "base_uri": "https://localhost:8080/",
          "height": 904
        },
        "id": "r1LXxMRSOPzl",
        "outputId": "682c6585-cdc9-4d91-dd4a-4d06e0ab20af"
      },
      "outputs": [
        {
          "data": {
            "text/html": [
              "<div>\n",
              "<style scoped>\n",
              "    .dataframe tbody tr th:only-of-type {\n",
              "        vertical-align: middle;\n",
              "    }\n",
              "\n",
              "    .dataframe tbody tr th {\n",
              "        vertical-align: top;\n",
              "    }\n",
              "\n",
              "    .dataframe thead th {\n",
              "        text-align: right;\n",
              "    }\n",
              "</style>\n",
              "<table border=\"1\" class=\"dataframe\">\n",
              "  <thead>\n",
              "    <tr style=\"text-align: right;\">\n",
              "      <th></th>\n",
              "      <th>location_id</th>\n",
              "      <th>city</th>\n",
              "      <th>event_timestamp</th>\n",
              "      <th>temperature</th>\n",
              "      <th>humidity</th>\n",
              "      <th>pressure</th>\n",
              "      <th>wind_speed</th>\n",
              "      <th>wind_direction</th>\n",
              "      <th>pm25</th>\n",
              "      <th>pm10</th>\n",
              "      <th>no2</th>\n",
              "      <th>so2</th>\n",
              "      <th>o3</th>\n",
              "      <th>co</th>\n",
              "      <th>aqi</th>\n",
              "    </tr>\n",
              "  </thead>\n",
              "  <tbody>\n",
              "    <tr>\n",
              "      <th>3195490</th>\n",
              "      <td>PGDAV College, Sriniwaspuri, Delhi, Delhi, India</td>\n",
              "      <td>Sriniwaspuri</td>\n",
              "      <td>2017-08-15 02:44:28.651396</td>\n",
              "      <td>29.600000</td>\n",
              "      <td>39.250000</td>\n",
              "      <td>987.600000</td>\n",
              "      <td>0.325000</td>\n",
              "      <td>135.6</td>\n",
              "      <td>192.0</td>\n",
              "      <td>139.0</td>\n",
              "      <td>16.1</td>\n",
              "      <td>5.2</td>\n",
              "      <td>103.0</td>\n",
              "      <td>14.7</td>\n",
              "      <td>192.0</td>\n",
              "    </tr>\n",
              "    <tr>\n",
              "      <th>920685</th>\n",
              "      <td>Sonia Vihar Water Treatment Plant DJB, Delhi, ...</td>\n",
              "      <td>Sonia Vihar</td>\n",
              "      <td>2005-04-06 14:44:28.651396</td>\n",
              "      <td>24.680000</td>\n",
              "      <td>85.740000</td>\n",
              "      <td>992.920000</td>\n",
              "      <td>0.300000</td>\n",
              "      <td>313.5</td>\n",
              "      <td>281.0</td>\n",
              "      <td>179.0</td>\n",
              "      <td>15.2</td>\n",
              "      <td>4.5</td>\n",
              "      <td>1.6</td>\n",
              "      <td>35.8</td>\n",
              "      <td>281.0</td>\n",
              "    </tr>\n",
              "    <tr>\n",
              "      <th>3338346</th>\n",
              "      <td>Anand Vihar, Delhi, Delhi, India</td>\n",
              "      <td>Anand Vihar</td>\n",
              "      <td>2018-05-26 08:44:28.651396</td>\n",
              "      <td>31.800000</td>\n",
              "      <td>42.950000</td>\n",
              "      <td>979.450000</td>\n",
              "      <td>0.950000</td>\n",
              "      <td>245.0</td>\n",
              "      <td>225.0</td>\n",
              "      <td>179.0</td>\n",
              "      <td>19.8</td>\n",
              "      <td>7.5</td>\n",
              "      <td>19.4</td>\n",
              "      <td>9.5</td>\n",
              "      <td>225.0</td>\n",
              "    </tr>\n",
              "    <tr>\n",
              "      <th>2742431</th>\n",
              "      <td>Anand Vihar, Delhi, Delhi, India</td>\n",
              "      <td>Anand Vihar</td>\n",
              "      <td>2015-02-28 03:44:28.651396</td>\n",
              "      <td>32.500000</td>\n",
              "      <td>43.600000</td>\n",
              "      <td>979.733333</td>\n",
              "      <td>1.766667</td>\n",
              "      <td>249.1</td>\n",
              "      <td>248.0</td>\n",
              "      <td>218.0</td>\n",
              "      <td>16.0</td>\n",
              "      <td>7.5</td>\n",
              "      <td>14.2</td>\n",
              "      <td>11.3</td>\n",
              "      <td>248.0</td>\n",
              "    </tr>\n",
              "    <tr>\n",
              "      <th>3540751</th>\n",
              "      <td>Pusa, Delhi, Delhi, India</td>\n",
              "      <td>Pusa</td>\n",
              "      <td>2019-07-22 01:44:28.651396</td>\n",
              "      <td>32.150000</td>\n",
              "      <td>44.850000</td>\n",
              "      <td>985.800000</td>\n",
              "      <td>0.300000</td>\n",
              "      <td>180.6</td>\n",
              "      <td>182.0</td>\n",
              "      <td>116.0</td>\n",
              "      <td>73.1</td>\n",
              "      <td>3.1</td>\n",
              "      <td>1.4</td>\n",
              "      <td>16.0</td>\n",
              "      <td>182.0</td>\n",
              "    </tr>\n",
              "    <tr>\n",
              "      <th>2380730</th>\n",
              "      <td>ITI Shahdra, Jhilmil Industrial Area, Delhi, D...</td>\n",
              "      <td>Jhilmil</td>\n",
              "      <td>2013-03-12 12:44:28.651396</td>\n",
              "      <td>34.433333</td>\n",
              "      <td>39.433333</td>\n",
              "      <td>984.066667</td>\n",
              "      <td>0.200000</td>\n",
              "      <td>46.2</td>\n",
              "      <td>239.0</td>\n",
              "      <td>198.0</td>\n",
              "      <td>18.0</td>\n",
              "      <td>11.3</td>\n",
              "      <td>16.8</td>\n",
              "      <td>14.8</td>\n",
              "      <td>239.0</td>\n",
              "    </tr>\n",
              "    <tr>\n",
              "      <th>812706</th>\n",
              "      <td>R.K. Puram, Delhi, Delhi, India</td>\n",
              "      <td>R.K. Puram</td>\n",
              "      <td>2004-08-14 01:44:28.651396</td>\n",
              "      <td>21.950000</td>\n",
              "      <td>87.550000</td>\n",
              "      <td>982.000000</td>\n",
              "      <td>0.300000</td>\n",
              "      <td>175.0</td>\n",
              "      <td>344.0</td>\n",
              "      <td>308.0</td>\n",
              "      <td>9.2</td>\n",
              "      <td>10.6</td>\n",
              "      <td>7.6</td>\n",
              "      <td>35.1</td>\n",
              "      <td>344.0</td>\n",
              "    </tr>\n",
              "    <tr>\n",
              "      <th>4266882</th>\n",
              "      <td>North Campus, Delhi, Delhi, India</td>\n",
              "      <td>North Campus</td>\n",
              "      <td>2023-09-11 19:44:28.651396</td>\n",
              "      <td>NaN</td>\n",
              "      <td>NaN</td>\n",
              "      <td>NaN</td>\n",
              "      <td>3.600000</td>\n",
              "      <td>NaN</td>\n",
              "      <td>164.0</td>\n",
              "      <td>157.0</td>\n",
              "      <td>7.7</td>\n",
              "      <td>NaN</td>\n",
              "      <td>12.6</td>\n",
              "      <td>0.1</td>\n",
              "      <td>164.0</td>\n",
              "    </tr>\n",
              "    <tr>\n",
              "      <th>722974</th>\n",
              "      <td>Major Dhyan Chand National Stadium, Delhi, Del...</td>\n",
              "      <td>Major Dhyan Chand National Stadium</td>\n",
              "      <td>2004-02-18 00:44:28.651396</td>\n",
              "      <td>23.700000</td>\n",
              "      <td>80.150000</td>\n",
              "      <td>989.225000</td>\n",
              "      <td>0.475000</td>\n",
              "      <td>229.4</td>\n",
              "      <td>278.0</td>\n",
              "      <td>180.0</td>\n",
              "      <td>40.3</td>\n",
              "      <td>7.7</td>\n",
              "      <td>8.4</td>\n",
              "      <td>36.6</td>\n",
              "      <td>278.0</td>\n",
              "    </tr>\n",
              "    <tr>\n",
              "      <th>3583627</th>\n",
              "      <td>Delhi Institute of Tool Engineering, Wazirpur,...</td>\n",
              "      <td>Wazirpur</td>\n",
              "      <td>2019-10-19 09:44:28.651396</td>\n",
              "      <td>33.700000</td>\n",
              "      <td>50.700000</td>\n",
              "      <td>965.050000</td>\n",
              "      <td>0.300000</td>\n",
              "      <td>350.4</td>\n",
              "      <td>195.0</td>\n",
              "      <td>170.0</td>\n",
              "      <td>25.4</td>\n",
              "      <td>11.5</td>\n",
              "      <td>84.3</td>\n",
              "      <td>2.8</td>\n",
              "      <td>195.0</td>\n",
              "    </tr>\n",
              "  </tbody>\n",
              "</table>\n",
              "</div>"
            ],
            "text/plain": [
              "                                               location_id  \\\n",
              "3195490   PGDAV College, Sriniwaspuri, Delhi, Delhi, India   \n",
              "920685   Sonia Vihar Water Treatment Plant DJB, Delhi, ...   \n",
              "3338346                   Anand Vihar, Delhi, Delhi, India   \n",
              "2742431                   Anand Vihar, Delhi, Delhi, India   \n",
              "3540751                          Pusa, Delhi, Delhi, India   \n",
              "2380730  ITI Shahdra, Jhilmil Industrial Area, Delhi, D...   \n",
              "812706                     R.K. Puram, Delhi, Delhi, India   \n",
              "4266882                  North Campus, Delhi, Delhi, India   \n",
              "722974   Major Dhyan Chand National Stadium, Delhi, Del...   \n",
              "3583627  Delhi Institute of Tool Engineering, Wazirpur,...   \n",
              "\n",
              "                                       city             event_timestamp  \\\n",
              "3195490                        Sriniwaspuri  2017-08-15 02:44:28.651396   \n",
              "920685                          Sonia Vihar  2005-04-06 14:44:28.651396   \n",
              "3338346                         Anand Vihar  2018-05-26 08:44:28.651396   \n",
              "2742431                         Anand Vihar  2015-02-28 03:44:28.651396   \n",
              "3540751                                Pusa  2019-07-22 01:44:28.651396   \n",
              "2380730                             Jhilmil  2013-03-12 12:44:28.651396   \n",
              "812706                           R.K. Puram  2004-08-14 01:44:28.651396   \n",
              "4266882                        North Campus  2023-09-11 19:44:28.651396   \n",
              "722974   Major Dhyan Chand National Stadium  2004-02-18 00:44:28.651396   \n",
              "3583627                            Wazirpur  2019-10-19 09:44:28.651396   \n",
              "\n",
              "         temperature   humidity    pressure  wind_speed  wind_direction  \\\n",
              "3195490    29.600000  39.250000  987.600000    0.325000           135.6   \n",
              "920685     24.680000  85.740000  992.920000    0.300000           313.5   \n",
              "3338346    31.800000  42.950000  979.450000    0.950000           245.0   \n",
              "2742431    32.500000  43.600000  979.733333    1.766667           249.1   \n",
              "3540751    32.150000  44.850000  985.800000    0.300000           180.6   \n",
              "2380730    34.433333  39.433333  984.066667    0.200000            46.2   \n",
              "812706     21.950000  87.550000  982.000000    0.300000           175.0   \n",
              "4266882          NaN        NaN         NaN    3.600000             NaN   \n",
              "722974     23.700000  80.150000  989.225000    0.475000           229.4   \n",
              "3583627    33.700000  50.700000  965.050000    0.300000           350.4   \n",
              "\n",
              "          pm25   pm10   no2   so2     o3    co    aqi  \n",
              "3195490  192.0  139.0  16.1   5.2  103.0  14.7  192.0  \n",
              "920685   281.0  179.0  15.2   4.5    1.6  35.8  281.0  \n",
              "3338346  225.0  179.0  19.8   7.5   19.4   9.5  225.0  \n",
              "2742431  248.0  218.0  16.0   7.5   14.2  11.3  248.0  \n",
              "3540751  182.0  116.0  73.1   3.1    1.4  16.0  182.0  \n",
              "2380730  239.0  198.0  18.0  11.3   16.8  14.8  239.0  \n",
              "812706   344.0  308.0   9.2  10.6    7.6  35.1  344.0  \n",
              "4266882  164.0  157.0   7.7   NaN   12.6   0.1  164.0  \n",
              "722974   278.0  180.0  40.3   7.7    8.4  36.6  278.0  \n",
              "3583627  195.0  170.0  25.4  11.5   84.3   2.8  195.0  "
            ]
          },
          "execution_count": 14,
          "metadata": {},
          "output_type": "execute_result"
        }
      ],
      "source": [
        "df.sample(10)"
      ]
    },
    {
      "cell_type": "code",
      "execution_count": 15,
      "metadata": {
        "colab": {
          "base_uri": "https://localhost:8080/",
          "height": 554
        },
        "id": "QY0sRPw0ORfS",
        "outputId": "f1606ace-b03c-4402-c586-b52e911d3e3f"
      },
      "outputs": [
        {
          "data": {
            "text/plain": [
              "location_id              0\n",
              "city                     0\n",
              "event_timestamp          0\n",
              "temperature        1077570\n",
              "humidity           1077570\n",
              "pressure           1077570\n",
              "wind_speed          215514\n",
              "wind_direction     1077570\n",
              "pm25                     0\n",
              "pm10                215514\n",
              "no2                      0\n",
              "so2                 862056\n",
              "o3                       0\n",
              "co                       0\n",
              "aqi                      0\n",
              "dtype: int64"
            ]
          },
          "execution_count": 15,
          "metadata": {},
          "output_type": "execute_result"
        }
      ],
      "source": [
        "df.isnull().sum()"
      ]
    },
    {
      "cell_type": "markdown",
      "metadata": {
        "id": "aJSmjweN0G_n"
      },
      "source": [
        "Let's handle the rows which have missing pm10 values"
      ]
    },
    {
      "cell_type": "markdown",
      "metadata": {
        "id": "rbFTOrfObzQH"
      },
      "source": [
        "Let's find out the number of rows which do not have pm10 and of the other anomalies either"
      ]
    },
    {
      "cell_type": "code",
      "execution_count": 16,
      "metadata": {
        "colab": {
          "base_uri": "https://localhost:8080/"
        },
        "id": "pUzlE3gEZIEH",
        "outputId": "db33a65c-61ce-4606-cbe5-379c5b3589d6"
      },
      "outputs": [
        {
          "name": "stdout",
          "output_type": "stream",
          "text": [
            "Number of rows without so2, pm10, temperature, humidity, and pressure data: 215514\n"
          ]
        }
      ],
      "source": [
        "rows_without_data = df[\n",
        "    df['so2'].isna() &\n",
        "    df['pm10'].isna() &\n",
        "    df['temperature'].isna() &\n",
        "    df['humidity'].isna() &\n",
        "    df['pressure'].isna()\n",
        "]\n",
        "\n",
        "count_rows_without_data = len(rows_without_data)\n",
        "\n",
        "print(f'Number of rows without so2, pm10, temperature, humidity, and pressure data: {count_rows_without_data}')"
      ]
    },
    {
      "cell_type": "markdown",
      "metadata": {
        "id": "FwBt5jQk0drN"
      },
      "source": [
        "So the common rows with all the anomalies are: 215514"
      ]
    },
    {
      "cell_type": "code",
      "execution_count": 17,
      "metadata": {
        "colab": {
          "base_uri": "https://localhost:8080/"
        },
        "id": "jCSsrSOQZlSF",
        "outputId": "b1d8c4b7-d1fb-4e87-b5d5-d2ae7ae0257a"
      },
      "outputs": [
        {
          "name": "stdout",
          "output_type": "stream",
          "text": [
            "Number of rows without pm10: 215514\n",
            "Out of these, number of rows also missing so2, temperature, humidity, and pressure: 215514\n"
          ]
        }
      ],
      "source": [
        "# 1. Find rows where pm10 is missing\n",
        "rows_without_pm10 = df[df['pm10'].isna()]\n",
        "\n",
        "# 2. Find rows where pm10 is missing and also so2, temperature, humidity, and pressure are missing\n",
        "rows_without_all = rows_without_pm10[\n",
        "    rows_without_pm10['so2'].isna() &\n",
        "    rows_without_pm10['temperature'].isna() &\n",
        "    rows_without_pm10['humidity'].isna() &\n",
        "    rows_without_pm10['pressure'].isna()\n",
        "]\n",
        "\n",
        "# Count the number of rows without pm10\n",
        "count_rows_without_pm10 = len(rows_without_pm10)\n",
        "\n",
        "# Count the number of rows without pm10 and the other columns\n",
        "count_rows_without_all = len(rows_without_all)\n",
        "\n",
        "print(f'Number of rows without pm10: {count_rows_without_pm10}')\n",
        "print(f'Out of these, number of rows also missing so2, temperature, humidity, and pressure: {count_rows_without_all}')\n",
        "\n",
        "\n",
        "#this concludes that all the rows which do not have pm10 simply do not have any of them, so we will first drop all these rows which have do not have pm10"
      ]
    },
    {
      "cell_type": "markdown",
      "metadata": {
        "id": "dTXPbFI_0nYi"
      },
      "source": [
        "This shows that the rows which have missing pm10 value, do not have any of the other values either!"
      ]
    },
    {
      "cell_type": "markdown",
      "metadata": {
        "id": "Czs5R_AIcdBs"
      },
      "source": [
        "Let's find out which city has provided how many such rows without pm10?"
      ]
    },
    {
      "cell_type": "code",
      "execution_count": 18,
      "metadata": {
        "colab": {
          "base_uri": "https://localhost:8080/"
        },
        "id": "Ge5XJ1xSaEST",
        "outputId": "e7374b97-8b07-49b2-cfe5-460fec1efd6f"
      },
      "outputs": [
        {
          "name": "stdout",
          "output_type": "stream",
          "text": [
            "     city  count_without_pm10  count_without_all\n",
            "0  Burari              215514             215514\n"
          ]
        }
      ],
      "source": [
        "rows_without_pm10 = df[df['pm10'].isna()]\n",
        "\n",
        "rows_without_all = rows_without_pm10[\n",
        "    rows_without_pm10['so2'].isna() &\n",
        "    rows_without_pm10['temperature'].isna() &\n",
        "    rows_without_pm10['humidity'].isna() &\n",
        "    rows_without_pm10['pressure'].isna()\n",
        "]\n",
        "\n",
        "#Group by city and count the number of rows without pm10\n",
        "count_by_city_pm10 = rows_without_pm10.groupby('city').size().reset_index(name='count_without_pm10')\n",
        "\n",
        "#Group by city and count the number of rows without pm10 and the other specified columns\n",
        "count_by_city_all = rows_without_all.groupby('city').size().reset_index(name='count_without_all')\n",
        "\n",
        "# Merge both counts to get a combined view\n",
        "merged_count = pd.merge(count_by_city_pm10, count_by_city_all, on='city', how='left')\n",
        "\n",
        "# Display the result\n",
        "print(merged_count)\n",
        "\n",
        "#this shows that burari is the impostor:) all these without pm10 val data are provided by burari only"
      ]
    },
    {
      "cell_type": "markdown",
      "metadata": {
        "id": "x_nQCgZEcpLj"
      },
      "source": [
        "Total rows with burari as city"
      ]
    },
    {
      "cell_type": "markdown",
      "metadata": {
        "id": "vnPa1hlw09F4"
      },
      "source": [
        "That's concludes that all the rows which have missing so2 values along with other anomalies are coming from burari!. So we will remove the rows from this city and refain it from future repo too"
      ]
    },
    {
      "cell_type": "code",
      "execution_count": 19,
      "metadata": {
        "colab": {
          "base_uri": "https://localhost:8080/"
        },
        "id": "1A6h1aBGafCz",
        "outputId": "fa056b00-ede2-4ebf-8740-8938de85813e"
      },
      "outputs": [
        {
          "name": "stdout",
          "output_type": "stream",
          "text": [
            "Total number of rows for Burari: 215514\n"
          ]
        }
      ],
      "source": [
        "# Filter the rows where the city is 'Burari'\n",
        "rows_burari = df[df['city'] == 'Burari']\n",
        "\n",
        "# Count the number of rows for Burari\n",
        "count_burari_rows = len(rows_burari)\n",
        "\n",
        "print(f'Total number of rows for Burari: {count_burari_rows}')\n",
        "\n",
        "#total rows from burari are 215514 and all of them do not have any pm10 values"
      ]
    },
    {
      "cell_type": "markdown",
      "metadata": {
        "id": "ijICQ-kucxI0"
      },
      "source": [
        "Conclusion: Only the rburari data lacks pm10 along with other values, so simply remove burari"
      ]
    },
    {
      "cell_type": "code",
      "execution_count": 20,
      "metadata": {
        "id": "1ZVTW2x_a1Au"
      },
      "outputs": [],
      "source": [
        "#so we will remove all the data of burari\n",
        "df = df[df['city'] != 'Burari']"
      ]
    },
    {
      "cell_type": "code",
      "execution_count": 21,
      "metadata": {
        "colab": {
          "base_uri": "https://localhost:8080/",
          "height": 554
        },
        "id": "mdUCyfhdbN_R",
        "outputId": "f8b9cf57-b2b1-4cee-d788-6a8b0ff6bc9e"
      },
      "outputs": [
        {
          "data": {
            "text/plain": [
              "location_id             0\n",
              "city                    0\n",
              "event_timestamp         0\n",
              "temperature        862056\n",
              "humidity           862056\n",
              "pressure           862056\n",
              "wind_speed         215514\n",
              "wind_direction     862056\n",
              "pm25                    0\n",
              "pm10                    0\n",
              "no2                     0\n",
              "so2                646542\n",
              "o3                      0\n",
              "co                      0\n",
              "aqi                     0\n",
              "dtype: int64"
            ]
          },
          "execution_count": 21,
          "metadata": {},
          "output_type": "execute_result"
        }
      ],
      "source": [
        "df.isnull().sum()"
      ]
    },
    {
      "cell_type": "markdown",
      "metadata": {
        "id": "3-wJxlgD1cbC"
      },
      "source": [
        "Now lets investigate so2"
      ]
    },
    {
      "cell_type": "markdown",
      "metadata": {
        "id": "AxpBapfcwczh"
      },
      "source": [
        "The Mathura road provides data which is do not contain temp, humidity, wind speed, wind direction and so2. So it's of no use to us."
      ]
    },
    {
      "cell_type": "code",
      "execution_count": 22,
      "metadata": {
        "id": "tAFzNqINwtM3"
      },
      "outputs": [],
      "source": [
        "df = df[df['city'] != 'Mathura Road']"
      ]
    },
    {
      "cell_type": "markdown",
      "metadata": {
        "id": "WmUGxa3Dbn26"
      },
      "source": [
        "Let's identify the rows that are missing so2 values and determine how many of these rows are also missing other features."
      ]
    },
    {
      "cell_type": "code",
      "execution_count": 23,
      "metadata": {
        "colab": {
          "base_uri": "https://localhost:8080/"
        },
        "id": "XkntJk_kbleb",
        "outputId": "35889bf1-8469-44eb-e4e3-9136179ab06b"
      },
      "outputs": [
        {
          "name": "stdout",
          "output_type": "stream",
          "text": [
            "Number of rows without so2: 431028\n",
            "Out of these, number of rows also missing temperature, humidity, and pressure: 431028\n"
          ]
        }
      ],
      "source": [
        "# 1. Find rows where so2 is missing\n",
        "rows_without_pm10 = df[df['so2'].isna()]\n",
        "\n",
        "# 2. Find rows where pm10 is missing and also so2, temperature, humidity, and pressure are missing\n",
        "rows_without_all = rows_without_pm10[\n",
        "    rows_without_pm10['temperature'].isna() &\n",
        "    rows_without_pm10['humidity'].isna() &\n",
        "    rows_without_pm10['pressure'].isna()\n",
        "]\n",
        "\n",
        "# Count the number of rows without pm10\n",
        "count_rows_without_pm10 = len(rows_without_pm10)\n",
        "\n",
        "# Count the number of rows without pm10 and the other columns\n",
        "count_rows_without_all = len(rows_without_all)\n",
        "\n",
        "print(f'Number of rows without so2: {count_rows_without_pm10}')\n",
        "print(f'Out of these, number of rows also missing temperature, humidity, and pressure: {count_rows_without_all}')"
      ]
    },
    {
      "cell_type": "markdown",
      "metadata": {
        "id": "Bgdz4uDvc-it"
      },
      "source": [
        "Which city has provided how many such rows without so2?"
      ]
    },
    {
      "cell_type": "code",
      "execution_count": 24,
      "metadata": {
        "colab": {
          "base_uri": "https://localhost:8080/"
        },
        "id": "jFy259PHcTiZ",
        "outputId": "8d5a9158-a036-41e4-8a4a-bb802334755b"
      },
      "outputs": [
        {
          "name": "stdout",
          "output_type": "stream",
          "text": [
            "           city  count_without_so2  count_without_all\n",
            "0    Lodhi Road             215514             215514\n",
            "1  North Campus             215514             215514\n"
          ]
        }
      ],
      "source": [
        "# 1. Filter rows where so2 is missing (NaN)\n",
        "rows_without_so2 = df[df['so2'].isna()]\n",
        "\n",
        "# 2. Filter rows where so2 is missing and temperature, humidity, and pressure are also missing\n",
        "rows_without_all = rows_without_so2[\n",
        "    rows_without_so2['temperature'].isna() &\n",
        "    rows_without_so2['humidity'].isna() &\n",
        "    rows_without_so2['pressure'].isna()\n",
        "]\n",
        "\n",
        "# 3. Group by city and count the number of rows without so2\n",
        "count_by_city_so2 = rows_without_so2.groupby('city').size().reset_index(name='count_without_so2')\n",
        "\n",
        "# 4. Group by city and count the number of rows without so2 and the other specified columns\n",
        "count_by_city_all = rows_without_all.groupby('city').size().reset_index(name='count_without_all')\n",
        "\n",
        "# Merge both counts to get a combined view (using outer join to handle missing cities)\n",
        "merged_count = pd.merge(count_by_city_so2, count_by_city_all, on='city', how='outer')\n",
        "\n",
        "# Display the result\n",
        "print(merged_count)\n",
        "\n",
        "#this shows that burari is the impostor:) all these without pm10 val data are provided by burari only"
      ]
    },
    {
      "cell_type": "markdown",
      "metadata": {
        "id": "pF6KlF4Bd8Oa"
      },
      "source": [
        "#Now here we can see that:\n",
        "Total rows without so2 value = 431028\n",
        "Out of which :\n",
        "1. Lodhi Road Contributed: 215514\n",
        "2. North Campus Contributed: 215514\n",
        "So both are 50-50 percent impostor\n",
        "\n",
        "Now lets see the number of total rows which have cities as lodhi road and north campus\n"
      ]
    },
    {
      "cell_type": "code",
      "execution_count": 25,
      "metadata": {
        "colab": {
          "base_uri": "https://localhost:8080/"
        },
        "id": "ldKhvjzMdEqU",
        "outputId": "84553232-1ba6-4fa2-89b4-02ca58e5c216"
      },
      "outputs": [
        {
          "name": "stdout",
          "output_type": "stream",
          "text": [
            "Total number of rows for Lodhi Road: 215514\n",
            "Total number of rows for North Campus: 215514\n"
          ]
        }
      ],
      "source": [
        "# Filter the rows where the city is 'Lodhi Road' and North Campus\n",
        "rows_lodhi_road = df[df['city'] == 'Lodhi Road']\n",
        "rows_north_campus = df[df['city'] == 'North Campus']\n",
        "\n",
        "\n",
        "# Count the number of rows for Lodhi Road\n",
        "count_lodhi_road_rows = len(rows_lodhi_road)\n",
        "count_north_campus_rows = len(rows_north_campus)\n",
        "\n",
        "print(f'Total number of rows for Lodhi Road: {count_lodhi_road_rows}')\n",
        "print(f'Total number of rows for North Campus: {count_north_campus_rows}')"
      ]
    },
    {
      "cell_type": "markdown",
      "metadata": {
        "id": "C_iEYDkxezXg"
      },
      "source": [
        "\n",
        "This isn't ideal, as both cities lack so2 data, which could negatively impact the accuracy of any analysis. Before removing the rows, it's important to understand the role of so2 in the Air Quality Index (AQI) and its characteristics:\n",
        "\n",
        "Impact on AQI: Sulfur dioxide (SO₂) is a critical pollutant used to calculate AQI. High concentrations of SO₂ can lead to respiratory issues and contribute to the formation of other pollutants like particulate matter and acid rain. Its levels play a significant role in assessing overall air quality.\n",
        "Properties: SO₂ levels can differ greatly between locations due to factors like industrial emissions, vehicle pollution, and climatic conditions. Even cities in close proximity may show significant differences in SO₂ concentration because of these factors.\n",
        "Given that no so2 data is available for these two cities, the best course of action is to drop these rows to maintain the integrity of the dataset."
      ]
    },
    {
      "cell_type": "code",
      "execution_count": 26,
      "metadata": {
        "id": "mvKcKwnQdxFX"
      },
      "outputs": [],
      "source": [
        "df = df[df['city'] != 'Lodhi Road']\n",
        "df = df[df['city'] != 'North Campus']"
      ]
    },
    {
      "cell_type": "code",
      "execution_count": 27,
      "metadata": {
        "colab": {
          "base_uri": "https://localhost:8080/"
        },
        "id": "uLTBDqCsosr5",
        "outputId": "19f0de89-646e-4f95-a300-2a370a3276cc"
      },
      "outputs": [
        {
          "data": {
            "text/plain": [
              "(2921413, 15)"
            ]
          },
          "execution_count": 27,
          "metadata": {},
          "output_type": "execute_result"
        }
      ],
      "source": [
        "df.shape"
      ]
    },
    {
      "cell_type": "code",
      "execution_count": 28,
      "metadata": {
        "colab": {
          "base_uri": "https://localhost:8080/",
          "height": 554
        },
        "id": "RccYnhOL2VR1",
        "outputId": "162fe943-2193-41cc-ee38-cf4b0db924cf"
      },
      "outputs": [
        {
          "data": {
            "text/plain": [
              "location_id             0\n",
              "city                    0\n",
              "event_timestamp         0\n",
              "temperature        215514\n",
              "humidity           215514\n",
              "pressure           215514\n",
              "wind_speed         215514\n",
              "wind_direction     215514\n",
              "pm25                    0\n",
              "pm10                    0\n",
              "no2                     0\n",
              "so2                     0\n",
              "o3                      0\n",
              "co                      0\n",
              "aqi                     0\n",
              "dtype: int64"
            ]
          },
          "execution_count": 28,
          "metadata": {},
          "output_type": "execute_result"
        }
      ],
      "source": [
        "df.isna().sum()"
      ]
    },
    {
      "cell_type": "markdown",
      "metadata": {
        "id": "LM1tqTy_2gq5"
      },
      "source": [
        "So there are still some rows which have temperature,humidity,\tpressure, wind_speed, wind_direction. Lets find from which cities they are."
      ]
    },
    {
      "cell_type": "code",
      "execution_count": 29,
      "metadata": {
        "colab": {
          "base_uri": "https://localhost:8080/"
        },
        "id": "Z8Nowx3I3S2N",
        "outputId": "12fb1744-a2b5-4bb9-eeba-bc90384dbba9"
      },
      "outputs": [
        {
          "name": "stdout",
          "output_type": "stream",
          "text": [
            "Cities with missing temperature, humidity, pressure, wind speed, or wind direction:\n",
            "['Siri Fort']\n"
          ]
        }
      ],
      "source": [
        "filtered_cities = df[(df[['temperature', 'humidity', 'pressure', 'wind_speed', 'wind_direction']].isnull().any(axis=1))]\n",
        "\n",
        "cities_missing_weather_data = filtered_cities['city'].unique()\n",
        "\n",
        "print(\"Cities with missing temperature, humidity, pressure, wind speed, or wind direction:\")\n",
        "print(cities_missing_weather_data)"
      ]
    },
    {
      "cell_type": "markdown",
      "metadata": {
        "id": "GTiLgdbw3Zzl"
      },
      "source": [
        "Siri Fort is now the only one remaining anomaly"
      ]
    },
    {
      "cell_type": "code",
      "execution_count": 30,
      "metadata": {
        "colab": {
          "base_uri": "https://localhost:8080/"
        },
        "id": "Oj4D_xN13ozr",
        "outputId": "c68cf2c2-ff2b-4500-a4ec-d8a92e63111f"
      },
      "outputs": [
        {
          "data": {
            "text/plain": [
              "(2921413, 15)"
            ]
          },
          "execution_count": 30,
          "metadata": {},
          "output_type": "execute_result"
        }
      ],
      "source": [
        "df.shape"
      ]
    },
    {
      "cell_type": "markdown",
      "metadata": {
        "id": "_Kb8gYACw2wS"
      },
      "source": [
        "Siri Fort does not provide values for temperature, humidity, wind speed, or wind direction but does provide other important factors. Therefore, we will update these missing values for each hour of the day with the average values from all the other cities for that same hour."
      ]
    },
    {
      "cell_type": "code",
      "execution_count": 31,
      "metadata": {
        "id": "3MQlufL2xmQ8"
      },
      "outputs": [],
      "source": [
        "# Convert event_timestamp to datetime format if not already done\n",
        "df['event_timestamp'] = pd.to_datetime(df['event_timestamp'])\n",
        "\n",
        "# Extract hour-based grouping key\n",
        "df['hour_key'] = df['event_timestamp'].dt.strftime('%Y-%m-%d %H')\n",
        "\n",
        "# Calculate average values for each hour, excluding Siri Fort\n",
        "hourly_avg = df[df['city'] != 'Siri Fort'].groupby('hour_key')[\n",
        "    ['temperature', 'humidity', 'wind_speed', 'wind_direction', 'pressure']\n",
        "].mean()\n",
        "\n",
        "# Merge the averages with Siri Fort rows\n",
        "siri_fort_indices = df[df['city'] == 'Siri Fort'].index\n",
        "df.loc[siri_fort_indices, ['temperature', 'humidity', 'wind_speed', 'wind_direction', 'pressure']] = (\n",
        "    df.loc[siri_fort_indices, 'hour_key']\n",
        "    .map(hourly_avg.to_dict(orient='index'))\n",
        "    .apply(pd.Series)\n",
        ")\n",
        "\n",
        "# Round the numerical columns to 3 decimal places\n",
        "df[['temperature', 'humidity', 'wind_speed', 'wind_direction', 'pressure']] = df[\n",
        "    ['temperature', 'humidity', 'wind_speed', 'wind_direction', 'pressure']\n",
        "].round(3)\n",
        "\n",
        "# Drop the temporary 'hour_key' column\n",
        "df.drop(columns=['hour_key'], inplace=True)\n"
      ]
    },
    {
      "cell_type": "code",
      "execution_count": 32,
      "metadata": {
        "colab": {
          "base_uri": "https://localhost:8080/",
          "height": 554
        },
        "id": "YpKjCxZ1ouxf",
        "outputId": "6e5c6530-a9ef-4cd1-cd8e-e920b1615150"
      },
      "outputs": [
        {
          "data": {
            "text/plain": [
              "location_id        0\n",
              "city               0\n",
              "event_timestamp    0\n",
              "temperature        0\n",
              "humidity           0\n",
              "pressure           0\n",
              "wind_speed         0\n",
              "wind_direction     0\n",
              "pm25               0\n",
              "pm10               0\n",
              "no2                0\n",
              "so2                0\n",
              "o3                 0\n",
              "co                 0\n",
              "aqi                0\n",
              "dtype: int64"
            ]
          },
          "execution_count": 32,
          "metadata": {},
          "output_type": "execute_result"
        }
      ],
      "source": [
        "df.isna().sum()"
      ]
    },
    {
      "cell_type": "code",
      "execution_count": 33,
      "metadata": {},
      "outputs": [
        {
          "data": {
            "text/html": [
              "<div>\n",
              "<style scoped>\n",
              "    .dataframe tbody tr th:only-of-type {\n",
              "        vertical-align: middle;\n",
              "    }\n",
              "\n",
              "    .dataframe tbody tr th {\n",
              "        vertical-align: top;\n",
              "    }\n",
              "\n",
              "    .dataframe thead th {\n",
              "        text-align: right;\n",
              "    }\n",
              "</style>\n",
              "<table border=\"1\" class=\"dataframe\">\n",
              "  <thead>\n",
              "    <tr style=\"text-align: right;\">\n",
              "      <th></th>\n",
              "      <th>location_id</th>\n",
              "      <th>city</th>\n",
              "      <th>event_timestamp</th>\n",
              "      <th>temperature</th>\n",
              "      <th>humidity</th>\n",
              "      <th>pressure</th>\n",
              "      <th>wind_speed</th>\n",
              "      <th>wind_direction</th>\n",
              "      <th>pm25</th>\n",
              "      <th>pm10</th>\n",
              "      <th>no2</th>\n",
              "      <th>so2</th>\n",
              "      <th>o3</th>\n",
              "      <th>co</th>\n",
              "      <th>aqi</th>\n",
              "    </tr>\n",
              "  </thead>\n",
              "  <tbody>\n",
              "    <tr>\n",
              "      <th>0</th>\n",
              "      <td>Delhi Institute of Tool Engineering, Wazirpur,...</td>\n",
              "      <td>Wazirpur</td>\n",
              "      <td>2000-03-15 13:44:28.651396</td>\n",
              "      <td>30.450</td>\n",
              "      <td>74.100</td>\n",
              "      <td>990.425</td>\n",
              "      <td>0.300</td>\n",
              "      <td>21.7</td>\n",
              "      <td>252.0</td>\n",
              "      <td>332.0</td>\n",
              "      <td>62.4</td>\n",
              "      <td>4.8</td>\n",
              "      <td>22.4</td>\n",
              "      <td>35.7</td>\n",
              "      <td>332.0</td>\n",
              "    </tr>\n",
              "    <tr>\n",
              "      <th>1</th>\n",
              "      <td>Satyawati College, Delhi, Delhi, India</td>\n",
              "      <td>Delhi</td>\n",
              "      <td>2000-03-15 13:44:28.651396</td>\n",
              "      <td>26.675</td>\n",
              "      <td>74.350</td>\n",
              "      <td>980.650</td>\n",
              "      <td>1.375</td>\n",
              "      <td>55.3</td>\n",
              "      <td>256.0</td>\n",
              "      <td>234.0</td>\n",
              "      <td>59.2</td>\n",
              "      <td>11.9</td>\n",
              "      <td>2.1</td>\n",
              "      <td>33.8</td>\n",
              "      <td>256.0</td>\n",
              "    </tr>\n",
              "    <tr>\n",
              "      <th>2</th>\n",
              "      <td>ITI Shahdra, Jhilmil Industrial Area, Delhi, D...</td>\n",
              "      <td>Jhilmil</td>\n",
              "      <td>2000-03-15 13:44:28.651396</td>\n",
              "      <td>28.775</td>\n",
              "      <td>62.925</td>\n",
              "      <td>984.350</td>\n",
              "      <td>0.300</td>\n",
              "      <td>221.3</td>\n",
              "      <td>265.0</td>\n",
              "      <td>210.0</td>\n",
              "      <td>48.3</td>\n",
              "      <td>5.1</td>\n",
              "      <td>8.2</td>\n",
              "      <td>35.1</td>\n",
              "      <td>265.0</td>\n",
              "    </tr>\n",
              "    <tr>\n",
              "      <th>3</th>\n",
              "      <td>Sonia Vihar Water Treatment Plant DJB, Delhi, ...</td>\n",
              "      <td>Sonia Vihar</td>\n",
              "      <td>2000-03-15 13:44:28.651396</td>\n",
              "      <td>26.575</td>\n",
              "      <td>78.525</td>\n",
              "      <td>991.300</td>\n",
              "      <td>0.300</td>\n",
              "      <td>313.6</td>\n",
              "      <td>251.0</td>\n",
              "      <td>177.0</td>\n",
              "      <td>16.5</td>\n",
              "      <td>1.8</td>\n",
              "      <td>1.7</td>\n",
              "      <td>24.9</td>\n",
              "      <td>251.0</td>\n",
              "    </tr>\n",
              "    <tr>\n",
              "      <th>4</th>\n",
              "      <td>PGDAV College, Sriniwaspuri, Delhi, Delhi, India</td>\n",
              "      <td>Sriniwaspuri</td>\n",
              "      <td>2000-03-15 13:44:28.651396</td>\n",
              "      <td>22.300</td>\n",
              "      <td>71.425</td>\n",
              "      <td>985.650</td>\n",
              "      <td>0.300</td>\n",
              "      <td>347.1</td>\n",
              "      <td>282.0</td>\n",
              "      <td>347.0</td>\n",
              "      <td>43.1</td>\n",
              "      <td>5.2</td>\n",
              "      <td>3.4</td>\n",
              "      <td>29.9</td>\n",
              "      <td>347.0</td>\n",
              "    </tr>\n",
              "  </tbody>\n",
              "</table>\n",
              "</div>"
            ],
            "text/plain": [
              "                                         location_id          city  \\\n",
              "0  Delhi Institute of Tool Engineering, Wazirpur,...      Wazirpur   \n",
              "1             Satyawati College, Delhi, Delhi, India         Delhi   \n",
              "2  ITI Shahdra, Jhilmil Industrial Area, Delhi, D...       Jhilmil   \n",
              "3  Sonia Vihar Water Treatment Plant DJB, Delhi, ...   Sonia Vihar   \n",
              "4   PGDAV College, Sriniwaspuri, Delhi, Delhi, India  Sriniwaspuri   \n",
              "\n",
              "             event_timestamp  temperature  humidity  pressure  wind_speed  \\\n",
              "0 2000-03-15 13:44:28.651396       30.450    74.100   990.425       0.300   \n",
              "1 2000-03-15 13:44:28.651396       26.675    74.350   980.650       1.375   \n",
              "2 2000-03-15 13:44:28.651396       28.775    62.925   984.350       0.300   \n",
              "3 2000-03-15 13:44:28.651396       26.575    78.525   991.300       0.300   \n",
              "4 2000-03-15 13:44:28.651396       22.300    71.425   985.650       0.300   \n",
              "\n",
              "   wind_direction   pm25   pm10   no2   so2    o3    co    aqi  \n",
              "0            21.7  252.0  332.0  62.4   4.8  22.4  35.7  332.0  \n",
              "1            55.3  256.0  234.0  59.2  11.9   2.1  33.8  256.0  \n",
              "2           221.3  265.0  210.0  48.3   5.1   8.2  35.1  265.0  \n",
              "3           313.6  251.0  177.0  16.5   1.8   1.7  24.9  251.0  \n",
              "4           347.1  282.0  347.0  43.1   5.2   3.4  29.9  347.0  "
            ]
          },
          "execution_count": 33,
          "metadata": {},
          "output_type": "execute_result"
        }
      ],
      "source": [
        "df.head()"
      ]
    },
    {
      "cell_type": "code",
      "execution_count": 34,
      "metadata": {
        "id": "LMucE_wEozSB"
      },
      "outputs": [],
      "source": [
        "df.to_csv(\"delhi_air_quality_feature_store_processed.csv\", index=False)"
      ]
    },
    {
      "cell_type": "markdown",
      "metadata": {
        "id": "BmEYjgFNpNGG"
      },
      "source": [
        "From next we will make sure that we don't get the data from burari, north campus and lodhi road"
      ]
    }
  ],
  "metadata": {
    "colab": {
      "provenance": []
    },
    "kernelspec": {
      "display_name": "Python 3",
      "name": "python3"
    },
    "language_info": {
      "codemirror_mode": {
        "name": "ipython",
        "version": 3
      },
      "file_extension": ".py",
      "mimetype": "text/x-python",
      "name": "python",
      "nbconvert_exporter": "python",
      "pygments_lexer": "ipython3",
      "version": "3.10.12"
    }
  },
  "nbformat": 4,
  "nbformat_minor": 0
}
